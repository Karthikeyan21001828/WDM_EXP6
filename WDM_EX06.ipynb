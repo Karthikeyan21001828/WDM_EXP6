{
  "cells": [
    {
      "cell_type": "code",
      "execution_count": 1,
      "id": "4c793537",
      "metadata": {
        "colab": {
          "base_uri": "https://localhost:8080/"
        },
        "id": "4c793537",
        "outputId": "638d8ede-6926-4961-e9df-6ebe8f71f1f9"
      },
      "outputs": [
        {
          "output_type": "stream",
          "name": "stdout",
          "text": [
            "Requirement already satisfied: nltk in /usr/local/lib/python3.10/dist-packages (3.8.1)\n",
            "Requirement already satisfied: click in /usr/local/lib/python3.10/dist-packages (from nltk) (8.1.7)\n",
            "Requirement already satisfied: joblib in /usr/local/lib/python3.10/dist-packages (from nltk) (1.3.2)\n",
            "Requirement already satisfied: regex>=2021.8.3 in /usr/local/lib/python3.10/dist-packages (from nltk) (2023.12.25)\n",
            "Requirement already satisfied: tqdm in /usr/local/lib/python3.10/dist-packages (from nltk) (4.66.2)\n"
          ]
        }
      ],
      "source": [
        "pip install nltk"
      ]
    },
    {
      "cell_type": "code",
      "execution_count": 2,
      "id": "478e923e",
      "metadata": {
        "colab": {
          "base_uri": "https://localhost:8080/"
        },
        "id": "478e923e",
        "outputId": "bfc46854-e773-46d5-8f20-ef00c51b6699"
      },
      "outputs": [
        {
          "output_type": "stream",
          "name": "stderr",
          "text": [
            "[nltk_data] Downloading package punkt to /root/nltk_data...\n",
            "[nltk_data]   Unzipping tokenizers/punkt.zip.\n",
            "[nltk_data] Downloading package stopwords to /root/nltk_data...\n",
            "[nltk_data]   Unzipping corpora/stopwords.zip.\n"
          ]
        },
        {
          "output_type": "execute_result",
          "data": {
            "text/plain": [
              "True"
            ]
          },
          "metadata": {},
          "execution_count": 2
        }
      ],
      "source": [
        "import nltk\n",
        "nltk.download('punkt')\n",
        "nltk.download('stopwords')"
      ]
    },
    {
      "cell_type": "code",
      "execution_count": 14,
      "id": "2d212045",
      "metadata": {
        "colab": {
          "base_uri": "https://localhost:8080/"
        },
        "id": "2d212045",
        "outputId": "7feb36fa-a026-4c6b-f4eb-17580a3997b5"
      },
      "outputs": [
        {
          "output_type": "stream",
          "name": "stdout",
          "text": [
            "Enter Query Statement: this is document\n",
            "Query: this is document\n",
            "\n",
            "Rank : 1\n",
            "Document: This document is the second document.\n",
            "Similarity Score: 0.78722297610404\n",
            "----------------------\n",
            "\n",
            "Rank : 2\n",
            "Document: Is this the first document?\n",
            "Similarity Score: 0.6292275146695526\n",
            "----------------------\n",
            "\n",
            "Rank : 3\n",
            "Document: This is the first document.\n",
            "Similarity Score: 0.6292275146695526\n",
            "----------------------\n",
            "\n",
            "Rank : 4\n",
            "Document: And this is the third one.\n",
            "Similarity Score: 0.0\n",
            "----------------------\n",
            "\n",
            "The high rank cosine score is 0.78722297610404\n"
          ]
        }
      ],
      "source": [
        "from sklearn.feature_extraction.text import TfidfVectorizer\n",
        "from sklearn.metrics.pairwise import cosine_similarity\n",
        "from nltk.tokenize import word_tokenize\n",
        "from nltk.corpus import stopwords\n",
        "import string\n",
        "\n",
        "# Sample documents\n",
        "documents = [\n",
        "    \"This is the first document.\",\n",
        "    \"This document is the second document.\",\n",
        "    \"And this is the third one.\",\n",
        "    \"Is this the first document?\",\n",
        "]\n",
        "\n",
        "# Preprocessing function to tokenize and remove stopwords/punctuation\n",
        "def preprocess_text(text):\n",
        "    tokens = word_tokenize(text.lower())\n",
        "    tokens = [token for token in tokens if token not in stopwords.words(\"english\") and token not in string.punctuation]\n",
        "    return \" \".join(tokens)\n",
        "    print(tokens)\n",
        "\n",
        "# Preprocess documents\n",
        "preprocessed_docs = [preprocess_text(doc) for doc in documents]\n",
        "\n",
        "# Construct TF-IDF matrix\n",
        "tfidf_vectorizer = TfidfVectorizer()\n",
        "tfidf_matrix = tfidf_vectorizer.fit_transform(preprocessed_docs)\n",
        "\n",
        "\n",
        "# Calculate cosine similarity between query and documents\n",
        "def search(query, tfidf_matrix, tfidf_vectorizer):\n",
        "    preprocessed_query = preprocess_text(query)\n",
        "    query_vector = tfidf_vectorizer.transform([preprocessed_query])\n",
        "\n",
        "    # Calculate cosine similarity between query and documents\n",
        "    similarity_scores = cosine_similarity(query_vector, tfidf_matrix)\n",
        "\n",
        "    # Sort documents based on similarity scores\n",
        "    sorted_indexes = similarity_scores.argsort()[0][::-1]\n",
        "\n",
        "    # Return sorted documents along with their similarity scores\n",
        "    results = [(documents[i], similarity_scores[0, i]) for i in sorted_indexes]\n",
        "    return results\n",
        "\n",
        "# Example query\n",
        "query=input(\"Enter Query Statement: \")\n",
        "\n",
        "# Perform search\n",
        "search_results = search(query, tfidf_matrix, tfidf_vectorizer)\n",
        "\n",
        "# Display search results\n",
        "i=1\n",
        "print(\"Query:\", query)\n",
        "rank=1\n",
        "for result in search_results:\n",
        "    print(\"\\nRank :\",rank)\n",
        "    print(\"Document:\", result[0])\n",
        "    print(\"Similarity Score:\", result[1])\n",
        "    print(\"----------------------\")\n",
        "    i=i+1\n",
        "    x=result[1]\n",
        "    rank+=1\n",
        "for result in search_results:\n",
        "    if(result[1]>=x):\n",
        "      x=result[1]\n",
        "print(\"\\nThe high rank cosine score is\",x)\n",
        "\n",
        "\n"
      ]
    },
    {
      "cell_type": "code",
      "source": [],
      "metadata": {
        "id": "b8uO6Ffsdgo0"
      },
      "id": "b8uO6Ffsdgo0",
      "execution_count": null,
      "outputs": []
    }
  ],
  "metadata": {
    "kernelspec": {
      "display_name": "Python 3 (ipykernel)",
      "language": "python",
      "name": "python3"
    },
    "language_info": {
      "codemirror_mode": {
        "name": "ipython",
        "version": 3
      },
      "file_extension": ".py",
      "mimetype": "text/x-python",
      "name": "python",
      "nbconvert_exporter": "python",
      "pygments_lexer": "ipython3",
      "version": "3.11.5"
    },
    "colab": {
      "provenance": []
    }
  },
  "nbformat": 4,
  "nbformat_minor": 5
}